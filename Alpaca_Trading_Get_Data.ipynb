{
 "cells": [
  {
   "cell_type": "code",
   "execution_count": 5,
   "metadata": {},
   "outputs": [],
   "source": [
    "from alpaca_trade_api.rest import REST, TimeFrame\n",
    "import pandas as pd"
   ]
  },
  {
   "cell_type": "code",
   "execution_count": 6,
   "metadata": {},
   "outputs": [],
   "source": [
    "# API key and secret\n",
    "API_KEY = ''\n",
    "API_SECRET = ''\n",
    "BASE_URL = 'https://paper-api.alpaca.markets'\n",
    "\n",
    "# API connection\n",
    "api = REST(API_KEY, API_SECRET, base_url = BASE_URL, api_version = 'v2')\n",
    "\n",
    "# storage path\n",
    "path = \"/Users/kaiwentay/Documents/GitHub/Pair_Trading_Fun/Data\""
   ]
  },
  {
   "cell_type": "code",
   "execution_count": 9,
   "metadata": {},
   "outputs": [
    {
     "name": "stdout",
     "output_type": "stream",
     "text": [
      "Fetching minute data for SOXL...\n",
      "Error fetching data for SOXL: 400 Client Error: Bad Request for url: https://data.alpaca.markets/v2/stocks/SOXL/bars?timeframe=1Min&adjustment=raw&start=2022-6-01&end=2023-12-01&limit=10000\n",
      "No data fetched for SOXL\n",
      "Fetching minute data for SOXX...\n",
      "Error fetching data for SOXX: 400 Client Error: Bad Request for url: https://data.alpaca.markets/v2/stocks/SOXX/bars?timeframe=1Min&adjustment=raw&start=2022-6-01&end=2023-12-01&limit=10000\n",
      "No data fetched for SOXX\n"
     ]
    }
   ],
   "source": [
    "def fetch_data(symbol, start_date, end_date):\n",
    "    try:\n",
    "        data = api.get_bars(symbol, TimeFrame.Minute, start_date, end_date, limit=1000000).df\n",
    "        return data\n",
    "    except Exception as e:\n",
    "        print(f\"Error fetching data for {symbol}: {e}\")\n",
    "        return pd.DataFrame()\n",
    "\n",
    "# Define the symbols and the date range for 3 months\n",
    "symbols = ['SOXL', 'SOXX']\n",
    "end_date = '2023-12-01'  # Current date\n",
    "start_date = '2022-6-01'  # 6 months ago from the end date\n",
    "\n",
    "# Fetch and store minute data for each symbol\n",
    "for symbol in symbols:\n",
    "    print(f\"Fetching minute data for {symbol}...\")\n",
    "    minute_data = fetch_data(symbol, start_date, end_date)\n",
    "    if not minute_data.empty:\n",
    "        # Save to CSV\n",
    "        csv_path = f\"{path}/{symbol}_minute_data.csv\"\n",
    "        minute_data.to_csv(csv_path)\n",
    "        print(f\"Data saved to {csv_path}\")\n",
    "    else:\n",
    "        print(f\"No data fetched for {symbol}\")  "
   ]
  },
  {
   "cell_type": "code",
   "execution_count": 4,
   "metadata": {},
   "outputs": [],
   "source": [
    "# combine the data into one dataframe (taking only close, and noting that timestamps might be different)\n",
    "df = pd.DataFrame()\n",
    "for symbol in symbols:\n",
    "    csv_path = f\"{path}/{symbol}_minute_data.csv\"\n",
    "    df_temp = pd.read_csv(csv_path, index_col='timestamp', parse_dates=True)\n",
    "    df_temp = df_temp[['close']]\n",
    "    df_temp.columns = [symbol]\n",
    "\n",
    "    # Forward fill missing values\n",
    "    df_temp = df_temp.ffill()\n",
    "\n",
    "    df = pd.concat([df, df_temp], axis=1)\n",
    "\n",
    "# Forward fill any remaining missing values in the combined DataFrame\n",
    "df = df.ffill()\n",
    "df.dropna(inplace = True)\n",
    "\n",
    "# save the combined data\n",
    "df.to_csv(f\"{path}/minute_data.csv\")"
   ]
  }
 ],
 "metadata": {
  "kernelspec": {
   "display_name": "Python 3",
   "language": "python",
   "name": "python3"
  },
  "language_info": {
   "codemirror_mode": {
    "name": "ipython",
    "version": 3
   },
   "file_extension": ".py",
   "mimetype": "text/x-python",
   "name": "python",
   "nbconvert_exporter": "python",
   "pygments_lexer": "ipython3",
   "version": "3.11.0"
  }
 },
 "nbformat": 4,
 "nbformat_minor": 2
}
